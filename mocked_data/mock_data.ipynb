{
 "cells": [
  {
   "cell_type": "markdown",
   "source": [
    "# Criação de dados\n",
    "\n",
    "A proposta deste notebook é criar um dataframe de dados mockados contendo as seguintes colunas:\n",
    "- id\n",
    "- data\n",
    "- usuário\n",
    "- empresa"
   ],
   "metadata": {
    "collapsed": false
   },
   "id": "2c5e60c065e0b644"
  },
  {
   "cell_type": "code",
   "execution_count": 60,
   "id": "initial_id",
   "metadata": {
    "collapsed": true,
    "ExecuteTime": {
     "end_time": "2023-11-01T03:11:32.349771800Z",
     "start_time": "2023-11-01T03:11:32.326775200Z"
    }
   },
   "outputs": [],
   "source": [
    "import pandas as pd\n",
    "from faker import Faker\n",
    "import uuid\n",
    "from datetime import datetime\n",
    "from random import choice"
   ]
  },
  {
   "cell_type": "code",
   "execution_count": 13,
   "outputs": [],
   "source": [
    "fake = Faker([\"pt_BR\"])"
   ],
   "metadata": {
    "collapsed": false,
    "ExecuteTime": {
     "end_time": "2023-11-01T01:53:37.387632Z",
     "start_time": "2023-11-01T01:53:37.353908300Z"
    }
   },
   "id": "eb78d8319218f65c"
  },
  {
   "cell_type": "code",
   "execution_count": 29,
   "outputs": [],
   "source": [
    "# Quantidade de registros na tabela\n",
    "\n",
    "lines = 100_000"
   ],
   "metadata": {
    "collapsed": false,
    "ExecuteTime": {
     "end_time": "2023-11-01T01:57:26.021417200Z",
     "start_time": "2023-11-01T01:57:25.995757400Z"
    }
   },
   "id": "e4f98167107eb06c"
  },
  {
   "cell_type": "code",
   "execution_count": 80,
   "outputs": [],
   "source": [
    "\n",
    "\n",
    "# Criação de dados \n",
    "\n",
    "base_company_list = [fake.unique.company_id() for _ in range(int(lines/100))] # 1k \n",
    "base_user_list = [fake.unique.email() for _ in range(int(lines/5))] # 20k\n",
    "user_company = [(base_user, choice(base_company_list)) for base_user in base_user_list]\n",
    "full_user_company = [choice(user_company) for _ in range(lines)]\n",
    "# deste modo eu garanto que sempre um mesmo user vai pertencer a uma mesma empresa\n",
    "\n",
    "\n",
    "data = {\n",
    "    \"id\": [uuid.uuid4() for _ in range(lines)],\n",
    "    \"insert_date\": [fake.date_time_between(start_date=datetime(2023, 10, 1)) for _ in range(lines)],\n",
    "    \"username\": [user[0] for user in full_user_company],\n",
    "    \"company\": [company[1] for company in full_user_company],\n",
    "}\n"
   ],
   "metadata": {
    "collapsed": false,
    "ExecuteTime": {
     "end_time": "2023-11-01T03:52:46.986929900Z",
     "start_time": "2023-11-01T03:52:45.198112Z"
    }
   },
   "id": "b9d2c3b51e01c077"
  },
  {
   "cell_type": "code",
   "execution_count": 81,
   "outputs": [],
   "source": [
    "# Criação do dataframe\n",
    "\n",
    "df = pd.DataFrame(data)"
   ],
   "metadata": {
    "collapsed": false,
    "ExecuteTime": {
     "end_time": "2023-11-01T03:52:47.170564800Z",
     "start_time": "2023-11-01T03:52:47.087991500Z"
    }
   },
   "id": "419f5d5ab02f9a29"
  },
  {
   "cell_type": "code",
   "execution_count": 82,
   "outputs": [
    {
     "data": {
      "text/plain": "                                     id         insert_date  \\\n0  5a3aa845-4af5-4fc2-bd09-0b4e81c82de0 2023-10-05 01:04:09   \n1  e2c82415-c478-456d-a145-b8eb462ce9e2 2023-10-01 17:28:28   \n2  eaa5b4a9-e06d-4210-abbb-0c7488701510 2023-10-15 00:05:35   \n3  2e68b5fc-a014-47ba-8e36-60c4d37fd6e7 2023-10-15 21:01:54   \n4  02dbf5b6-66ac-409d-829b-9d2d7f30cbd3 2023-10-08 07:06:08   \n\n                          username         company  \n0              alana55@example.com  25316098000111  \n1      da-motaisabelly@example.org  38615729000145  \n2             evelyn73@example.org  82350176000138  \n3       santoshenrique@example.net  34726081000123  \n4  peixotomaria-sophia@example.org  79326185000189  ",
      "text/html": "<div>\n<style scoped>\n    .dataframe tbody tr th:only-of-type {\n        vertical-align: middle;\n    }\n\n    .dataframe tbody tr th {\n        vertical-align: top;\n    }\n\n    .dataframe thead th {\n        text-align: right;\n    }\n</style>\n<table border=\"1\" class=\"dataframe\">\n  <thead>\n    <tr style=\"text-align: right;\">\n      <th></th>\n      <th>id</th>\n      <th>insert_date</th>\n      <th>username</th>\n      <th>company</th>\n    </tr>\n  </thead>\n  <tbody>\n    <tr>\n      <th>0</th>\n      <td>5a3aa845-4af5-4fc2-bd09-0b4e81c82de0</td>\n      <td>2023-10-05 01:04:09</td>\n      <td>alana55@example.com</td>\n      <td>25316098000111</td>\n    </tr>\n    <tr>\n      <th>1</th>\n      <td>e2c82415-c478-456d-a145-b8eb462ce9e2</td>\n      <td>2023-10-01 17:28:28</td>\n      <td>da-motaisabelly@example.org</td>\n      <td>38615729000145</td>\n    </tr>\n    <tr>\n      <th>2</th>\n      <td>eaa5b4a9-e06d-4210-abbb-0c7488701510</td>\n      <td>2023-10-15 00:05:35</td>\n      <td>evelyn73@example.org</td>\n      <td>82350176000138</td>\n    </tr>\n    <tr>\n      <th>3</th>\n      <td>2e68b5fc-a014-47ba-8e36-60c4d37fd6e7</td>\n      <td>2023-10-15 21:01:54</td>\n      <td>santoshenrique@example.net</td>\n      <td>34726081000123</td>\n    </tr>\n    <tr>\n      <th>4</th>\n      <td>02dbf5b6-66ac-409d-829b-9d2d7f30cbd3</td>\n      <td>2023-10-08 07:06:08</td>\n      <td>peixotomaria-sophia@example.org</td>\n      <td>79326185000189</td>\n    </tr>\n  </tbody>\n</table>\n</div>"
     },
     "execution_count": 82,
     "metadata": {},
     "output_type": "execute_result"
    }
   ],
   "source": [
    "df.head()"
   ],
   "metadata": {
    "collapsed": false,
    "ExecuteTime": {
     "end_time": "2023-11-01T03:52:47.184936600Z",
     "start_time": "2023-11-01T03:52:47.175942400Z"
    }
   },
   "id": "a67fabce638e21e2"
  },
  {
   "cell_type": "code",
   "execution_count": 83,
   "outputs": [
    {
     "name": "stdout",
     "output_type": "stream",
     "text": [
      "<class 'pandas.core.frame.DataFrame'>\n",
      "RangeIndex: 100000 entries, 0 to 99999\n",
      "Data columns (total 4 columns):\n",
      " #   Column       Non-Null Count   Dtype         \n",
      "---  ------       --------------   -----         \n",
      " 0   id           100000 non-null  object        \n",
      " 1   insert_date  100000 non-null  datetime64[ns]\n",
      " 2   username     100000 non-null  object        \n",
      " 3   company      100000 non-null  object        \n",
      "dtypes: datetime64[ns](1), object(3)\n",
      "memory usage: 3.1+ MB\n"
     ]
    }
   ],
   "source": [
    "df.info()"
   ],
   "metadata": {
    "collapsed": false,
    "ExecuteTime": {
     "end_time": "2023-11-01T03:52:47.345365700Z",
     "start_time": "2023-11-01T03:52:47.181932300Z"
    }
   },
   "id": "c42e2fa75ac35ac6"
  },
  {
   "cell_type": "code",
   "execution_count": 84,
   "outputs": [],
   "source": [
    "# Gerando o arquivo SQL\n",
    "\n",
    "# Este foi o filename que usei ao rodar no meu pc para criar o script\n",
    "filename = \"../docker_databases/init.sql\"\n",
    "\n",
    "# Estou deixando este apenas para que possa executar no seu computador sem comprometer o resultado\n",
    "# das analises que realizei.\n",
    "# filename = \"../docker_databases/init_avaliacao.sql\"\n",
    "\n",
    "with open(filename, \"w\") as f:\n",
    "    f.write(\"\\n\\n-- Criação da tabela\")\n",
    "    f.write(\"\"\"\n",
    "    CREATE TABLE t_ponto (\n",
    "          id VARCHAR(255) PRIMARY KEY,\n",
    "          insert_date TIMESTAMP,\n",
    "          username VARCHAR(255),\n",
    "          company VARCHAR(255)\n",
    "    );\\n\n",
    "    \"\"\")\n",
    "    \n",
    "    f.write(\"\\n\\n-- Exportação dos dados\\n\\n\")\n",
    "    for i in df.index:\n",
    "        f.write(f\"INSERT INTO t_ponto (id, insert_date, username, company) VALUES ('{str(df.iloc[i, 0])}', '{df.iloc[i, 1]}', '{df.iloc[i, 2]}', '{df.iloc[i, 3]}');\\n\")"
   ],
   "metadata": {
    "collapsed": false,
    "ExecuteTime": {
     "end_time": "2023-11-01T03:52:54.252183500Z",
     "start_time": "2023-11-01T03:52:47.480105Z"
    }
   },
   "id": "6b4dc08468e5b334"
  },
  {
   "cell_type": "code",
   "execution_count": 85,
   "outputs": [
    {
     "name": "stdout",
     "output_type": "stream",
     "text": [
      "Fim\n"
     ]
    }
   ],
   "source": [
    "print(\"Fim\")"
   ],
   "metadata": {
    "collapsed": false,
    "ExecuteTime": {
     "end_time": "2023-11-01T03:52:54.259315600Z",
     "start_time": "2023-11-01T03:52:54.254291Z"
    }
   },
   "id": "e2a4cfe71908170"
  },
  {
   "cell_type": "code",
   "execution_count": null,
   "outputs": [],
   "source": [],
   "metadata": {
    "collapsed": false
   },
   "id": "32bc1d48f8c7ef4f"
  }
 ],
 "metadata": {
  "kernelspec": {
   "display_name": "Python 3",
   "language": "python",
   "name": "python3"
  },
  "language_info": {
   "codemirror_mode": {
    "name": "ipython",
    "version": 2
   },
   "file_extension": ".py",
   "mimetype": "text/x-python",
   "name": "python",
   "nbconvert_exporter": "python",
   "pygments_lexer": "ipython2",
   "version": "2.7.6"
  }
 },
 "nbformat": 4,
 "nbformat_minor": 5
}
