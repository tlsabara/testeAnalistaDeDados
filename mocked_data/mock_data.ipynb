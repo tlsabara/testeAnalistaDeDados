{
 "cells": [
  {
   "cell_type": "markdown",
   "source": [
    "# Criação de dados\n",
    "\n",
    "A proposta deste notebook é criar um dataframe de dados mockados contendo as seguintes colunas:\n",
    "- id\n",
    "- data\n",
    "- usuário\n",
    "- empresa"
   ],
   "metadata": {
    "collapsed": false
   },
   "id": "2c5e60c065e0b644"
  },
  {
   "cell_type": "code",
   "execution_count": 1,
   "id": "initial_id",
   "metadata": {
    "collapsed": true,
    "ExecuteTime": {
     "end_time": "2023-11-04T20:07:08.326618800Z",
     "start_time": "2023-11-04T20:07:07.993977100Z"
    }
   },
   "outputs": [],
   "source": [
    "import pandas as pd\n",
    "from faker import Faker\n",
    "import uuid\n",
    "from datetime import datetime\n",
    "from random import choice"
   ]
  },
  {
   "cell_type": "markdown",
   "source": [
    "### Imports\n",
    "- **pandas**: para criar uma tabela\n",
    "- **faker**: para criar os dados\n",
    "- **uuid**: para chaves primárias unicas\n",
    "- **datetime e random**: complementares"
   ],
   "metadata": {
    "collapsed": false
   },
   "id": "7c3e076cba9a1478"
  },
  {
   "cell_type": "code",
   "execution_count": 2,
   "outputs": [],
   "source": [
    "# Instanciando o Faker\n",
    "fake = Faker([\"pt_BR\"])"
   ],
   "metadata": {
    "collapsed": false,
    "ExecuteTime": {
     "end_time": "2023-11-04T20:07:08.360349900Z",
     "start_time": "2023-11-04T20:07:08.330464700Z"
    }
   },
   "id": "eb78d8319218f65c"
  },
  {
   "cell_type": "code",
   "execution_count": 3,
   "outputs": [],
   "source": [
    "# Quantidade de registros na tabela\n",
    "\n",
    "lines = 1_000_000"
   ],
   "metadata": {
    "collapsed": false,
    "ExecuteTime": {
     "end_time": "2023-11-04T20:07:08.361570500Z",
     "start_time": "2023-11-04T20:07:08.355353100Z"
    }
   },
   "id": "e4f98167107eb06c"
  },
  {
   "cell_type": "code",
   "execution_count": 4,
   "outputs": [],
   "source": [
    "# Criação de dados \n",
    "\n",
    "base_company_list = [fake.unique.company_id() for _ in range(int(1_000))] # 1k emrpesas\n",
    "base_user_list = [fake.unique.email() for _ in range(int(20_000))] # 20k de usuários\n",
    "\n",
    "# para um contexto mais lógico, onde um usuário sempre pertencer à uma mesma empresa\n",
    "user_company = [(base_user, choice(base_company_list)) for base_user in base_user_list]\n",
    "full_user_company = [choice(user_company) for _ in range(lines)]\n",
    " \n",
    "# Criação dos dados\n",
    "data = {\n",
    "    \"id\": [uuid.uuid4() for _ in range(lines)],\n",
    "    \"insert_date\": [fake.date_time_between(start_date=datetime(2023, 10, 1)) for _ in range(lines)],\n",
    "    \"username\": [user[0] for user in full_user_company],\n",
    "    \"company\": [company[1] for company in full_user_company],\n",
    "}\n"
   ],
   "metadata": {
    "collapsed": false,
    "ExecuteTime": {
     "end_time": "2023-11-04T20:07:15.851532Z",
     "start_time": "2023-11-04T20:07:08.361383900Z"
    }
   },
   "id": "b9d2c3b51e01c077"
  },
  {
   "cell_type": "code",
   "execution_count": 5,
   "outputs": [],
   "source": [
    "# Criação do dataframe\n",
    "df = pd.DataFrame(data)"
   ],
   "metadata": {
    "collapsed": false,
    "ExecuteTime": {
     "end_time": "2023-11-04T20:07:17.515345700Z",
     "start_time": "2023-11-04T20:07:16.458401200Z"
    }
   },
   "id": "419f5d5ab02f9a29"
  },
  {
   "cell_type": "code",
   "execution_count": 6,
   "outputs": [
    {
     "data": {
      "text/plain": "                                     id         insert_date  \\\n0  ecaa3a99-a802-40ab-8e09-8f34b87cc759 2023-11-01 12:14:02   \n1  7b33cd0c-9fdb-48ef-bf00-98792016990e 2023-10-07 02:15:48   \n2  001f87c1-f72e-4e75-8b32-ebdbd47ac4a0 2023-10-12 01:17:27   \n3  f29ccb2f-3a05-4575-b49e-864ee8c1e738 2023-11-02 13:41:44   \n4  83f47de8-3a17-499f-8355-573091e08146 2023-10-19 12:51:30   \n\n                         username         company  \n0  freitasana-vitoria@example.org  63728149000101  \n1          benjamin45@example.com  62491075000170  \n2    bernardoda-cunha@example.org  59843210000194  \n3              qgomes@example.net  09368152000116  \n4            vfreitas@example.org  46057892000168  ",
      "text/html": "<div>\n<style scoped>\n    .dataframe tbody tr th:only-of-type {\n        vertical-align: middle;\n    }\n\n    .dataframe tbody tr th {\n        vertical-align: top;\n    }\n\n    .dataframe thead th {\n        text-align: right;\n    }\n</style>\n<table border=\"1\" class=\"dataframe\">\n  <thead>\n    <tr style=\"text-align: right;\">\n      <th></th>\n      <th>id</th>\n      <th>insert_date</th>\n      <th>username</th>\n      <th>company</th>\n    </tr>\n  </thead>\n  <tbody>\n    <tr>\n      <th>0</th>\n      <td>ecaa3a99-a802-40ab-8e09-8f34b87cc759</td>\n      <td>2023-11-01 12:14:02</td>\n      <td>freitasana-vitoria@example.org</td>\n      <td>63728149000101</td>\n    </tr>\n    <tr>\n      <th>1</th>\n      <td>7b33cd0c-9fdb-48ef-bf00-98792016990e</td>\n      <td>2023-10-07 02:15:48</td>\n      <td>benjamin45@example.com</td>\n      <td>62491075000170</td>\n    </tr>\n    <tr>\n      <th>2</th>\n      <td>001f87c1-f72e-4e75-8b32-ebdbd47ac4a0</td>\n      <td>2023-10-12 01:17:27</td>\n      <td>bernardoda-cunha@example.org</td>\n      <td>59843210000194</td>\n    </tr>\n    <tr>\n      <th>3</th>\n      <td>f29ccb2f-3a05-4575-b49e-864ee8c1e738</td>\n      <td>2023-11-02 13:41:44</td>\n      <td>qgomes@example.net</td>\n      <td>09368152000116</td>\n    </tr>\n    <tr>\n      <th>4</th>\n      <td>83f47de8-3a17-499f-8355-573091e08146</td>\n      <td>2023-10-19 12:51:30</td>\n      <td>vfreitas@example.org</td>\n      <td>46057892000168</td>\n    </tr>\n  </tbody>\n</table>\n</div>"
     },
     "execution_count": 6,
     "metadata": {},
     "output_type": "execute_result"
    }
   ],
   "source": [
    "# Apenas vendo como ficou a tabela\n",
    "df.head()"
   ],
   "metadata": {
    "collapsed": false,
    "ExecuteTime": {
     "end_time": "2023-11-04T20:07:17.553525100Z",
     "start_time": "2023-11-04T20:07:17.532325600Z"
    }
   },
   "id": "a67fabce638e21e2"
  },
  {
   "cell_type": "code",
   "execution_count": 7,
   "outputs": [
    {
     "name": "stdout",
     "output_type": "stream",
     "text": [
      "<class 'pandas.core.frame.DataFrame'>\n",
      "RangeIndex: 1000000 entries, 0 to 999999\n",
      "Data columns (total 4 columns):\n",
      " #   Column       Non-Null Count    Dtype         \n",
      "---  ------       --------------    -----         \n",
      " 0   id           1000000 non-null  object        \n",
      " 1   insert_date  1000000 non-null  datetime64[ns]\n",
      " 2   username     1000000 non-null  object        \n",
      " 3   company      1000000 non-null  object        \n",
      "dtypes: datetime64[ns](1), object(3)\n",
      "memory usage: 30.5+ MB\n"
     ]
    }
   ],
   "source": [
    "# Vendo os tipos das colunas\n",
    "df.info()"
   ],
   "metadata": {
    "collapsed": false,
    "ExecuteTime": {
     "end_time": "2023-11-04T20:07:17.732832900Z",
     "start_time": "2023-11-04T20:07:17.551605300Z"
    }
   },
   "id": "c42e2fa75ac35ac6"
  },
  {
   "cell_type": "code",
   "execution_count": null,
   "outputs": [],
   "source": [
    "# Gerando o arquivo SQL\n",
    "\n",
    "# Este foi o filename que usei ao rodar no meu pc para criar o script\n",
    "filename = \"../docker_databases/init.sql\"\n",
    "\n",
    "# Estou deixando este apenas para que possa executar no seu computador sem comprometer o resultado\n",
    "# das analises que realizei.\n",
    "# filename = \"../docker_databases/init_avaliacao.sql\"\n",
    "\n",
    "with open(filename, \"w\") as f:\n",
    "    f.write(\"\\n\\n-- Criação da tabela\")\n",
    "    f.write(\"\"\"\n",
    "    CREATE TABLE t_ponto (\n",
    "          id VARCHAR(255) PRIMARY KEY,\n",
    "          insert_date TIMESTAMP,\n",
    "          username VARCHAR(255),\n",
    "          company VARCHAR(255)\n",
    "    );\\n\n",
    "    \"\"\")\n",
    "    \n",
    "    f.write(\"\\n\\n-- Exportação dos dados\\n\\n\")\n",
    "    for i in df.index:\n",
    "        f.write(f\"INSERT INTO t_ponto (id, insert_date, username, company) VALUES ('{str(df.iloc[i, 0])}', '{df.iloc[i, 1]}', '{df.iloc[i, 2]}', '{df.iloc[i, 3]}');\\n\")"
   ],
   "metadata": {
    "collapsed": false,
    "is_executing": true,
    "ExecuteTime": {
     "start_time": "2023-11-04T20:07:17.672257Z"
    }
   },
   "id": "6b4dc08468e5b334"
  },
  {
   "cell_type": "code",
   "execution_count": null,
   "outputs": [],
   "source": [
    "print(\"Fim\")"
   ],
   "metadata": {
    "collapsed": false,
    "is_executing": true
   },
   "id": "e2a4cfe71908170"
  },
  {
   "cell_type": "markdown",
   "source": [
    "## Conclusão\n",
    "\n",
    "foi gerado um script sql para que possa ser instanciado o container com o banco ja contendo as informações. Sempre que o container for executado no composer, ele ja irá conter os dados."
   ],
   "metadata": {
    "collapsed": false
   },
   "id": "2a06a4c7b8b01bd5"
  },
  {
   "cell_type": "code",
   "execution_count": null,
   "outputs": [],
   "source": [],
   "metadata": {
    "collapsed": false,
    "is_executing": true
   },
   "id": "b3f57e47eae08253"
  }
 ],
 "metadata": {
  "kernelspec": {
   "display_name": "Python 3",
   "language": "python",
   "name": "python3"
  },
  "language_info": {
   "codemirror_mode": {
    "name": "ipython",
    "version": 2
   },
   "file_extension": ".py",
   "mimetype": "text/x-python",
   "name": "python",
   "nbconvert_exporter": "python",
   "pygments_lexer": "ipython2",
   "version": "2.7.6"
  }
 },
 "nbformat": 4,
 "nbformat_minor": 5
}
