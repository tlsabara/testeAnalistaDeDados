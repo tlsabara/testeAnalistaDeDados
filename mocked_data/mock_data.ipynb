{
 "cells": [
  {
   "cell_type": "markdown",
   "id": "2c5e60c065e0b644",
   "metadata": {
    "collapsed": false,
    "jupyter": {
     "outputs_hidden": false
    }
   },
   "source": [
    "# Criação de dados\n",
    "\n",
    "A proposta deste notebook é criar um dataframe de dados mockados contendo as seguintes colunas:\n",
    "- id\n",
    "- data\n",
    "- usuário\n",
    "- empresa"
   ]
  },
  {
   "cell_type": "code",
   "execution_count": 1,
   "id": "initial_id",
   "metadata": {
    "ExecuteTime": {
     "end_time": "2023-11-04T20:09:58.187321700Z",
     "start_time": "2023-11-04T20:09:57.900953600Z"
    },
    "collapsed": true,
    "jupyter": {
     "outputs_hidden": true
    }
   },
   "outputs": [],
   "source": [
    "import pandas as pd\n",
    "from faker import Faker\n",
    "import uuid\n",
    "from datetime import datetime\n",
    "from random import choice"
   ]
  },
  {
   "cell_type": "markdown",
   "id": "7c3e076cba9a1478",
   "metadata": {
    "collapsed": false,
    "jupyter": {
     "outputs_hidden": false
    }
   },
   "source": [
    "### Imports\n",
    "- **pandas**: para criar uma tabela\n",
    "- **faker**: para criar os dados\n",
    "- **uuid**: para chaves primárias unicas\n",
    "- **datetime e random**: complementares"
   ]
  },
  {
   "cell_type": "code",
   "execution_count": 2,
   "id": "eb78d8319218f65c",
   "metadata": {
    "ExecuteTime": {
     "end_time": "2023-11-04T20:09:58.213977700Z",
     "start_time": "2023-11-04T20:09:58.196554700Z"
    },
    "collapsed": false,
    "jupyter": {
     "outputs_hidden": false
    }
   },
   "outputs": [],
   "source": [
    "# Instanciando o Faker\n",
    "fake = Faker([\"pt_BR\"])"
   ]
  },
  {
   "cell_type": "code",
   "execution_count": 3,
   "id": "e4f98167107eb06c",
   "metadata": {
    "ExecuteTime": {
     "end_time": "2023-11-04T20:09:58.216822800Z",
     "start_time": "2023-11-04T20:09:58.213977700Z"
    },
    "collapsed": false,
    "jupyter": {
     "outputs_hidden": false
    }
   },
   "outputs": [],
   "source": [
    "# Quantidade de registros na tabela\n",
    "\n",
    "lines = 500_000"
   ]
  },
  {
   "cell_type": "code",
   "execution_count": 4,
   "id": "b9d2c3b51e01c077",
   "metadata": {
    "ExecuteTime": {
     "end_time": "2023-11-04T20:10:02.220976Z",
     "start_time": "2023-11-04T20:09:58.216822800Z"
    },
    "collapsed": false,
    "jupyter": {
     "outputs_hidden": false
    }
   },
   "outputs": [],
   "source": [
    "# Criação de dados \n",
    "\n",
    "base_company_list = [fake.unique.company_id() for _ in range(int(1_000))] # 1k emrpesas\n",
    "base_user_list = [fake.unique.email() for _ in range(int(20_000))] # 20k de usuários\n",
    "\n",
    "# para um contexto mais lógico, onde um usuário sempre pertencer à uma mesma empresa\n",
    "user_company = [(base_user, choice(base_company_list)) for base_user in base_user_list]\n",
    "full_user_company = [choice(user_company) for _ in range(lines)]\n",
    " \n",
    "# Criação dos dados\n",
    "data = {\n",
    "    \"id\": [uuid.uuid4() for _ in range(lines)],\n",
    "    \"insert_date\": [fake.date_time_between(start_date=datetime(2023, 10, 1)) for _ in range(lines)],\n",
    "    \"username\": [user[0] for user in full_user_company],\n",
    "    \"company\": [company[1] for company in full_user_company],\n",
    "}\n"
   ]
  },
  {
   "cell_type": "code",
   "execution_count": 5,
   "id": "419f5d5ab02f9a29",
   "metadata": {
    "ExecuteTime": {
     "end_time": "2023-11-04T20:10:03.083196Z",
     "start_time": "2023-11-04T20:10:02.864386700Z"
    },
    "collapsed": false,
    "jupyter": {
     "outputs_hidden": false
    }
   },
   "outputs": [],
   "source": [
    "# Criação do dataframe\n",
    "df = pd.DataFrame(data)"
   ]
  },
  {
   "cell_type": "code",
   "execution_count": 6,
   "id": "a67fabce638e21e2",
   "metadata": {
    "ExecuteTime": {
     "end_time": "2023-11-04T20:10:03.208977800Z",
     "start_time": "2023-11-04T20:10:03.077132800Z"
    },
    "collapsed": false,
    "jupyter": {
     "outputs_hidden": false
    }
   },
   "outputs": [
    {
     "data": {
      "text/html": [
       "<div>\n",
       "<style scoped>\n",
       "    .dataframe tbody tr th:only-of-type {\n",
       "        vertical-align: middle;\n",
       "    }\n",
       "\n",
       "    .dataframe tbody tr th {\n",
       "        vertical-align: top;\n",
       "    }\n",
       "\n",
       "    .dataframe thead th {\n",
       "        text-align: right;\n",
       "    }\n",
       "</style>\n",
       "<table border=\"1\" class=\"dataframe\">\n",
       "  <thead>\n",
       "    <tr style=\"text-align: right;\">\n",
       "      <th></th>\n",
       "      <th>id</th>\n",
       "      <th>insert_date</th>\n",
       "      <th>username</th>\n",
       "      <th>company</th>\n",
       "    </tr>\n",
       "  </thead>\n",
       "  <tbody>\n",
       "    <tr>\n",
       "      <th>0</th>\n",
       "      <td>148fc80b-b8b5-411a-8099-5c3aa94582ce</td>\n",
       "      <td>2023-10-11 15:27:55</td>\n",
       "      <td>cecilianogueira@example.com</td>\n",
       "      <td>40957263000108</td>\n",
       "    </tr>\n",
       "    <tr>\n",
       "      <th>1</th>\n",
       "      <td>4059d421-4042-4471-99d1-d8b4b427fffb</td>\n",
       "      <td>2023-10-25 07:43:22</td>\n",
       "      <td>caionogueira@example.net</td>\n",
       "      <td>21594708000198</td>\n",
       "    </tr>\n",
       "    <tr>\n",
       "      <th>2</th>\n",
       "      <td>17925564-12e1-43b3-8ace-2c26c61baa8a</td>\n",
       "      <td>2023-10-31 22:20:01</td>\n",
       "      <td>costeladiogo@example.org</td>\n",
       "      <td>31709628000194</td>\n",
       "    </tr>\n",
       "    <tr>\n",
       "      <th>3</th>\n",
       "      <td>47a669f9-2b0a-499f-92b0-524d01a075e9</td>\n",
       "      <td>2023-10-02 04:16:30</td>\n",
       "      <td>cavalcantimiguel@example.net</td>\n",
       "      <td>87652914000115</td>\n",
       "    </tr>\n",
       "    <tr>\n",
       "      <th>4</th>\n",
       "      <td>3c217c67-20be-4665-8f56-de523ebe3315</td>\n",
       "      <td>2023-10-23 01:04:00</td>\n",
       "      <td>nicoleoliveira@example.org</td>\n",
       "      <td>81350927000153</td>\n",
       "    </tr>\n",
       "  </tbody>\n",
       "</table>\n",
       "</div>"
      ],
      "text/plain": [
       "                                     id         insert_date  \\\n",
       "0  148fc80b-b8b5-411a-8099-5c3aa94582ce 2023-10-11 15:27:55   \n",
       "1  4059d421-4042-4471-99d1-d8b4b427fffb 2023-10-25 07:43:22   \n",
       "2  17925564-12e1-43b3-8ace-2c26c61baa8a 2023-10-31 22:20:01   \n",
       "3  47a669f9-2b0a-499f-92b0-524d01a075e9 2023-10-02 04:16:30   \n",
       "4  3c217c67-20be-4665-8f56-de523ebe3315 2023-10-23 01:04:00   \n",
       "\n",
       "                       username         company  \n",
       "0   cecilianogueira@example.com  40957263000108  \n",
       "1      caionogueira@example.net  21594708000198  \n",
       "2      costeladiogo@example.org  31709628000194  \n",
       "3  cavalcantimiguel@example.net  87652914000115  \n",
       "4    nicoleoliveira@example.org  81350927000153  "
      ]
     },
     "execution_count": 6,
     "metadata": {},
     "output_type": "execute_result"
    }
   ],
   "source": [
    "# Apenas vendo como ficou a tabela\n",
    "df.head()"
   ]
  },
  {
   "cell_type": "code",
   "execution_count": 7,
   "id": "c42e2fa75ac35ac6",
   "metadata": {
    "ExecuteTime": {
     "end_time": "2023-11-04T20:10:03.208977800Z",
     "start_time": "2023-11-04T20:10:03.127947700Z"
    },
    "collapsed": false,
    "jupyter": {
     "outputs_hidden": false
    }
   },
   "outputs": [
    {
     "name": "stdout",
     "output_type": "stream",
     "text": [
      "<class 'pandas.core.frame.DataFrame'>\n",
      "RangeIndex: 500000 entries, 0 to 499999\n",
      "Data columns (total 4 columns):\n",
      " #   Column       Non-Null Count   Dtype         \n",
      "---  ------       --------------   -----         \n",
      " 0   id           500000 non-null  object        \n",
      " 1   insert_date  500000 non-null  datetime64[ns]\n",
      " 2   username     500000 non-null  object        \n",
      " 3   company      500000 non-null  object        \n",
      "dtypes: datetime64[ns](1), object(3)\n",
      "memory usage: 15.3+ MB\n"
     ]
    }
   ],
   "source": [
    "# Vendo os tipos das colunas\n",
    "df.info()"
   ]
  },
  {
   "cell_type": "code",
   "execution_count": 8,
   "id": "6b4dc08468e5b334",
   "metadata": {
    "ExecuteTime": {
     "end_time": "2023-11-04T20:10:33.057443300Z",
     "start_time": "2023-11-04T20:10:03.139954Z"
    },
    "collapsed": false,
    "jupyter": {
     "outputs_hidden": false
    }
   },
   "outputs": [],
   "source": [
    "# Gerando o arquivo SQL\n",
    "\n",
    "# Este foi o filename que usei ao rodar no meu pc para criar o script\n",
    "filename = \"../docker_databases/init.sql\"\n",
    "\n",
    "# Estou deixando este apenas para que possa executar no seu computador sem comprometer o resultado\n",
    "# das analises que realizei.\n",
    "# filename = \"../docker_databases/init_avaliacao.sql\"\n",
    "\n",
    "with open(filename, \"w\") as f:\n",
    "    f.write(\"\\n\\n-- Criação da tabela\")\n",
    "    f.write(\"\"\"\n",
    "    CREATE TABLE t_ponto (\n",
    "          id VARCHAR(255) PRIMARY KEY,\n",
    "          insert_date TIMESTAMP,\n",
    "          username VARCHAR(255),\n",
    "          company VARCHAR(255)\n",
    "    );\\n\n",
    "    \"\"\")\n",
    "    \n",
    "    f.write(\"\\n\\n-- Exportação dos dados\\n\\n\")\n",
    "    for i in df.index:\n",
    "        f.write(f\"INSERT INTO t_ponto (id, insert_date, username, company) VALUES ('{str(df.iloc[i, 0])}', '{df.iloc[i, 1]}', '{df.iloc[i, 2]}', '{df.iloc[i, 3]}');\\n\")"
   ]
  },
  {
   "cell_type": "code",
   "execution_count": 9,
   "id": "e2a4cfe71908170",
   "metadata": {
    "ExecuteTime": {
     "end_time": "2023-11-04T20:10:33.065848600Z",
     "start_time": "2023-11-04T20:10:33.062724300Z"
    },
    "collapsed": false,
    "jupyter": {
     "outputs_hidden": false
    }
   },
   "outputs": [
    {
     "name": "stdout",
     "output_type": "stream",
     "text": [
      "Fim\n"
     ]
    }
   ],
   "source": [
    "print(\"Fim\")"
   ]
  },
  {
   "cell_type": "markdown",
   "id": "2e06e3d03b96f56b",
   "metadata": {
    "collapsed": false,
    "jupyter": {
     "outputs_hidden": false
    }
   },
   "source": [
    "## Conclusão\n",
    "\n",
    "foi gerado um script sql para que possa ser instanciado o container com o banco ja contendo as informações. Sempre que o container for executado no composer, ele ja irá conter os dados."
   ]
  },
  {
   "cell_type": "code",
   "execution_count": null,
   "id": "68428c71087e5d25",
   "metadata": {
    "collapsed": false,
    "jupyter": {
     "outputs_hidden": false
    }
   },
   "outputs": [],
   "source": []
  }
 ],
 "metadata": {
  "kernelspec": {
   "display_name": "Python 3 (ipykernel)",
   "language": "python",
   "name": "python3"
  },
  "language_info": {
   "codemirror_mode": {
    "name": "ipython",
    "version": 3
   },
   "file_extension": ".py",
   "mimetype": "text/x-python",
   "name": "python",
   "nbconvert_exporter": "python",
   "pygments_lexer": "ipython3",
   "version": "3.11.5"
  }
 },
 "nbformat": 4,
 "nbformat_minor": 5
}
