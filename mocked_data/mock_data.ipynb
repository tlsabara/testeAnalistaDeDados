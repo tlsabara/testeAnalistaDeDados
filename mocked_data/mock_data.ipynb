{
 "cells": [
  {
   "cell_type": "markdown",
   "source": [
    "# Criação de dados\n",
    "\n",
    "A proposta deste notebook é criar um dataframe de dados mockados contendo as seguintes colunas:\n",
    "- id\n",
    "- data\n",
    "- usuário\n",
    "- empresa"
   ],
   "metadata": {
    "collapsed": false
   },
   "id": "2c5e60c065e0b644"
  },
  {
   "cell_type": "code",
   "execution_count": 8,
   "id": "initial_id",
   "metadata": {
    "collapsed": true,
    "ExecuteTime": {
     "end_time": "2023-11-01T01:52:59.565974800Z",
     "start_time": "2023-11-01T01:52:59.552405700Z"
    }
   },
   "outputs": [],
   "source": [
    "import pandas as pd\n",
    "from faker import Faker\n",
    "import uuid\n",
    "from datetime import datetime"
   ]
  },
  {
   "cell_type": "code",
   "execution_count": 13,
   "outputs": [],
   "source": [
    "fake = Faker([\"pt_BR\"])"
   ],
   "metadata": {
    "collapsed": false,
    "ExecuteTime": {
     "end_time": "2023-11-01T01:53:37.387632Z",
     "start_time": "2023-11-01T01:53:37.353908300Z"
    }
   },
   "id": "eb78d8319218f65c"
  },
  {
   "cell_type": "code",
   "execution_count": 29,
   "outputs": [],
   "source": [
    "# Quantidade de registros na tabela\n",
    "\n",
    "lines = 100_000"
   ],
   "metadata": {
    "collapsed": false,
    "ExecuteTime": {
     "end_time": "2023-11-01T01:57:26.021417200Z",
     "start_time": "2023-11-01T01:57:25.995757400Z"
    }
   },
   "id": "e4f98167107eb06c"
  },
  {
   "cell_type": "code",
   "execution_count": 44,
   "outputs": [],
   "source": [
    "# Criação de dados \n",
    "\n",
    "data = {\n",
    "    \"id\": [uuid.uuid4() for _ in range(lines)],\n",
    "    \"data\": [fake.date_time_between(start_date=datetime(2022, 1, 1)) for _ in range(lines)],\n",
    "    \"username\": [fake.email() for _ in range(lines)],\n",
    "    \"company\": [fake.company_id() for _ in range(lines)],\n",
    "}\n"
   ],
   "metadata": {
    "collapsed": false,
    "ExecuteTime": {
     "end_time": "2023-11-01T02:12:57.214410100Z",
     "start_time": "2023-11-01T02:12:54.246157500Z"
    }
   },
   "id": "b9d2c3b51e01c077"
  },
  {
   "cell_type": "code",
   "execution_count": 45,
   "outputs": [],
   "source": [
    "# Criação do dataframe\n",
    "\n",
    "df = pd.DataFrame(data)"
   ],
   "metadata": {
    "collapsed": false,
    "ExecuteTime": {
     "end_time": "2023-11-01T02:12:59.734794300Z",
     "start_time": "2023-11-01T02:12:59.599446300Z"
    }
   },
   "id": "419f5d5ab02f9a29"
  },
  {
   "cell_type": "code",
   "execution_count": 46,
   "outputs": [
    {
     "data": {
      "text/plain": "                                     id                data  \\\n0  dc005d20-3252-414b-9a0c-a1053eccd3f3 2022-04-24 02:53:27   \n1  92a89b93-382d-490c-93bc-e2a35226f2f9 2022-04-26 18:30:34   \n2  c39e860c-9a2f-4298-a189-82274ac852b3 2022-06-20 01:52:58   \n3  9c5384ae-b6a0-408c-82e5-9d730d34ab5e 2022-03-30 09:07:52   \n4  bba4dbeb-7dcb-4a25-8ca6-013f2761dfe2 2023-06-10 08:14:08   \n\n                        user         company  \n0  pietramoreira@example.org  24019685000186  \n1   heloisajesus@example.com  14326798000170  \n2      rsilveira@example.com  80625734000103  \n3         apires@example.org  23807614000185  \n4     pintoluana@example.com  21648075000153  ",
      "text/html": "<div>\n<style scoped>\n    .dataframe tbody tr th:only-of-type {\n        vertical-align: middle;\n    }\n\n    .dataframe tbody tr th {\n        vertical-align: top;\n    }\n\n    .dataframe thead th {\n        text-align: right;\n    }\n</style>\n<table border=\"1\" class=\"dataframe\">\n  <thead>\n    <tr style=\"text-align: right;\">\n      <th></th>\n      <th>id</th>\n      <th>data</th>\n      <th>user</th>\n      <th>company</th>\n    </tr>\n  </thead>\n  <tbody>\n    <tr>\n      <th>0</th>\n      <td>dc005d20-3252-414b-9a0c-a1053eccd3f3</td>\n      <td>2022-04-24 02:53:27</td>\n      <td>pietramoreira@example.org</td>\n      <td>24019685000186</td>\n    </tr>\n    <tr>\n      <th>1</th>\n      <td>92a89b93-382d-490c-93bc-e2a35226f2f9</td>\n      <td>2022-04-26 18:30:34</td>\n      <td>heloisajesus@example.com</td>\n      <td>14326798000170</td>\n    </tr>\n    <tr>\n      <th>2</th>\n      <td>c39e860c-9a2f-4298-a189-82274ac852b3</td>\n      <td>2022-06-20 01:52:58</td>\n      <td>rsilveira@example.com</td>\n      <td>80625734000103</td>\n    </tr>\n    <tr>\n      <th>3</th>\n      <td>9c5384ae-b6a0-408c-82e5-9d730d34ab5e</td>\n      <td>2022-03-30 09:07:52</td>\n      <td>apires@example.org</td>\n      <td>23807614000185</td>\n    </tr>\n    <tr>\n      <th>4</th>\n      <td>bba4dbeb-7dcb-4a25-8ca6-013f2761dfe2</td>\n      <td>2023-06-10 08:14:08</td>\n      <td>pintoluana@example.com</td>\n      <td>21648075000153</td>\n    </tr>\n  </tbody>\n</table>\n</div>"
     },
     "execution_count": 46,
     "metadata": {},
     "output_type": "execute_result"
    }
   ],
   "source": [
    "df.head()"
   ],
   "metadata": {
    "collapsed": false,
    "ExecuteTime": {
     "end_time": "2023-11-01T02:12:59.767120500Z",
     "start_time": "2023-11-01T02:12:59.735807Z"
    }
   },
   "id": "a67fabce638e21e2"
  },
  {
   "cell_type": "code",
   "execution_count": 47,
   "outputs": [
    {
     "name": "stdout",
     "output_type": "stream",
     "text": [
      "<class 'pandas.core.frame.DataFrame'>\n",
      "RangeIndex: 100000 entries, 0 to 99999\n",
      "Data columns (total 4 columns):\n",
      " #   Column   Non-Null Count   Dtype         \n",
      "---  ------   --------------   -----         \n",
      " 0   id       100000 non-null  object        \n",
      " 1   data     100000 non-null  datetime64[ns]\n",
      " 2   user     100000 non-null  object        \n",
      " 3   company  100000 non-null  object        \n",
      "dtypes: datetime64[ns](1), object(3)\n",
      "memory usage: 3.1+ MB\n"
     ]
    }
   ],
   "source": [
    "df.info()"
   ],
   "metadata": {
    "collapsed": false,
    "ExecuteTime": {
     "end_time": "2023-11-01T02:13:00.912014800Z",
     "start_time": "2023-11-01T02:13:00.864316500Z"
    }
   },
   "id": "c42e2fa75ac35ac6"
  },
  {
   "cell_type": "code",
   "execution_count": 59,
   "outputs": [],
   "source": [
    "# Gerando o arquivo SQL\n",
    "\n",
    "with open(\"../docker_databases/init.sql\", \"w\") as f:\n",
    "    f.write(\"\\n\\n-- Criação da tabela\")\n",
    "    f.write(\"\"\"\n",
    "    CREATE TABLE t_ponto (\n",
    "          id VARCHAR(255) PRIMARY KEY,\n",
    "          data TIMESTAMP,\n",
    "          username VARCHAR(255),\n",
    "          company VARCHAR(255)\n",
    "    );\\n\n",
    "    \"\"\")\n",
    "    \n",
    "    f.write(\"\\n\\n-- Exportação dos dados\\n\\n\")\n",
    "    for i in df.index:\n",
    "        f.write(f\"INSERT INTO t_ponto (id, data, username, company) VALUES ('{str(df.iloc[i, 0])}', '{df.iloc[i, 1]}', '{df.iloc[i, 2]}', '{df.iloc[i, 3]}');\\n\")"
   ],
   "metadata": {
    "collapsed": false,
    "ExecuteTime": {
     "end_time": "2023-11-01T02:50:22.215549800Z",
     "start_time": "2023-11-01T02:50:16.109860200Z"
    }
   },
   "id": "6b4dc08468e5b334"
  },
  {
   "cell_type": "code",
   "execution_count": null,
   "outputs": [],
   "source": [],
   "metadata": {
    "collapsed": false
   },
   "id": "e2a4cfe71908170"
  }
 ],
 "metadata": {
  "kernelspec": {
   "display_name": "Python 3",
   "language": "python",
   "name": "python3"
  },
  "language_info": {
   "codemirror_mode": {
    "name": "ipython",
    "version": 2
   },
   "file_extension": ".py",
   "mimetype": "text/x-python",
   "name": "python",
   "nbconvert_exporter": "python",
   "pygments_lexer": "ipython2",
   "version": "2.7.6"
  }
 },
 "nbformat": 4,
 "nbformat_minor": 5
}
