{
 "cells": [
  {
   "cell_type": "markdown",
   "source": [
    "# Criação de dados\n",
    "\n",
    "A proposta deste notebook é criar um dataframe de dados mockados contendo as seguintes colunas:\n",
    "- id\n",
    "- data\n",
    "- usuário\n",
    "- empresa"
   ],
   "metadata": {
    "collapsed": false
   },
   "id": "2c5e60c065e0b644"
  },
  {
   "cell_type": "code",
   "execution_count": 60,
   "id": "initial_id",
   "metadata": {
    "collapsed": true,
    "ExecuteTime": {
     "end_time": "2023-11-01T03:11:32.349771800Z",
     "start_time": "2023-11-01T03:11:32.326775200Z"
    }
   },
   "outputs": [],
   "source": [
    "import pandas as pd\n",
    "from faker import Faker\n",
    "import uuid\n",
    "from datetime import datetime\n",
    "from random import choice"
   ]
  },
  {
   "cell_type": "code",
   "execution_count": 13,
   "outputs": [],
   "source": [
    "fake = Faker([\"pt_BR\"])"
   ],
   "metadata": {
    "collapsed": false,
    "ExecuteTime": {
     "end_time": "2023-11-01T01:53:37.387632Z",
     "start_time": "2023-11-01T01:53:37.353908300Z"
    }
   },
   "id": "eb78d8319218f65c"
  },
  {
   "cell_type": "code",
   "execution_count": 29,
   "outputs": [],
   "source": [
    "# Quantidade de registros na tabela\n",
    "\n",
    "lines = 100_000"
   ],
   "metadata": {
    "collapsed": false,
    "ExecuteTime": {
     "end_time": "2023-11-01T01:57:26.021417200Z",
     "start_time": "2023-11-01T01:57:25.995757400Z"
    }
   },
   "id": "e4f98167107eb06c"
  },
  {
   "cell_type": "code",
   "execution_count": 62,
   "outputs": [],
   "source": [
    "\n",
    "\n",
    "# Criação de dados \n",
    "\n",
    "base_company_list = [fake.unique.company_id() for _ in range(int(lines/100))] # 1k \n",
    "base_user_list = [fake.unique.email() for _ in range(int(lines/5))] # 20k\n",
    "user_company = [(base_user, choice(base_company_list)) for base_user in base_user_list]\n",
    "full_user_company = [choice(user_company) for _ in range(lines)]\n",
    "# deste modo eu garanto que sempre um mesmo user vai pertencer a uma mesma empresa\n",
    "\n",
    "\n",
    "data = {\n",
    "    \"id\": [uuid.uuid4() for _ in range(lines)],\n",
    "    \"data\": [fake.date_time_between(start_date=datetime(2022, 1, 1)) for _ in range(lines)],\n",
    "    \"username\": [user[0] for user in full_user_company],\n",
    "    \"company\": [company[1] for company in full_user_company],\n",
    "}\n"
   ],
   "metadata": {
    "collapsed": false,
    "ExecuteTime": {
     "end_time": "2023-11-01T03:15:28.271111400Z",
     "start_time": "2023-11-01T03:15:26.902650600Z"
    }
   },
   "id": "b9d2c3b51e01c077"
  },
  {
   "cell_type": "code",
   "execution_count": 63,
   "outputs": [],
   "source": [
    "# Criação do dataframe\n",
    "\n",
    "df = pd.DataFrame(data)"
   ],
   "metadata": {
    "collapsed": false,
    "ExecuteTime": {
     "end_time": "2023-11-01T03:15:31.029216400Z",
     "start_time": "2023-11-01T03:15:30.829082800Z"
    }
   },
   "id": "419f5d5ab02f9a29"
  },
  {
   "cell_type": "code",
   "execution_count": 64,
   "outputs": [
    {
     "data": {
      "text/plain": "                                     id                data  \\\n0  9d9a055f-ed10-4330-a904-6b32ccd13b8a 2022-05-03 22:39:56   \n1  6b777185-623a-44d7-8c7a-3a6493874f60 2022-11-27 14:44:13   \n2  d636aa25-5e06-4ccd-8725-5f37d89fc057 2023-08-19 19:50:08   \n3  8bc06af1-7266-4465-be21-55604ce9d657 2022-06-05 19:23:34   \n4  bd8024c5-ff94-401f-bf32-3a025dee3c62 2023-07-06 21:23:52   \n\n                          username         company  \n0  maria-claracarvalho@example.org  09713245000130  \n1     carlos-eduardo98@example.org  82340567000171  \n2        felipefreitas@example.org  71032986000120  \n3               joao94@example.org  97184036000104  \n4    pedro-lucasfarias@example.net  69532871000152  ",
      "text/html": "<div>\n<style scoped>\n    .dataframe tbody tr th:only-of-type {\n        vertical-align: middle;\n    }\n\n    .dataframe tbody tr th {\n        vertical-align: top;\n    }\n\n    .dataframe thead th {\n        text-align: right;\n    }\n</style>\n<table border=\"1\" class=\"dataframe\">\n  <thead>\n    <tr style=\"text-align: right;\">\n      <th></th>\n      <th>id</th>\n      <th>data</th>\n      <th>username</th>\n      <th>company</th>\n    </tr>\n  </thead>\n  <tbody>\n    <tr>\n      <th>0</th>\n      <td>9d9a055f-ed10-4330-a904-6b32ccd13b8a</td>\n      <td>2022-05-03 22:39:56</td>\n      <td>maria-claracarvalho@example.org</td>\n      <td>09713245000130</td>\n    </tr>\n    <tr>\n      <th>1</th>\n      <td>6b777185-623a-44d7-8c7a-3a6493874f60</td>\n      <td>2022-11-27 14:44:13</td>\n      <td>carlos-eduardo98@example.org</td>\n      <td>82340567000171</td>\n    </tr>\n    <tr>\n      <th>2</th>\n      <td>d636aa25-5e06-4ccd-8725-5f37d89fc057</td>\n      <td>2023-08-19 19:50:08</td>\n      <td>felipefreitas@example.org</td>\n      <td>71032986000120</td>\n    </tr>\n    <tr>\n      <th>3</th>\n      <td>8bc06af1-7266-4465-be21-55604ce9d657</td>\n      <td>2022-06-05 19:23:34</td>\n      <td>joao94@example.org</td>\n      <td>97184036000104</td>\n    </tr>\n    <tr>\n      <th>4</th>\n      <td>bd8024c5-ff94-401f-bf32-3a025dee3c62</td>\n      <td>2023-07-06 21:23:52</td>\n      <td>pedro-lucasfarias@example.net</td>\n      <td>69532871000152</td>\n    </tr>\n  </tbody>\n</table>\n</div>"
     },
     "execution_count": 64,
     "metadata": {},
     "output_type": "execute_result"
    }
   ],
   "source": [
    "df.head()"
   ],
   "metadata": {
    "collapsed": false,
    "ExecuteTime": {
     "end_time": "2023-11-01T03:15:34.999591800Z",
     "start_time": "2023-11-01T03:15:34.983280800Z"
    }
   },
   "id": "a67fabce638e21e2"
  },
  {
   "cell_type": "code",
   "execution_count": 65,
   "outputs": [
    {
     "name": "stdout",
     "output_type": "stream",
     "text": [
      "<class 'pandas.core.frame.DataFrame'>\n",
      "RangeIndex: 100000 entries, 0 to 99999\n",
      "Data columns (total 4 columns):\n",
      " #   Column    Non-Null Count   Dtype         \n",
      "---  ------    --------------   -----         \n",
      " 0   id        100000 non-null  object        \n",
      " 1   data      100000 non-null  datetime64[ns]\n",
      " 2   username  100000 non-null  object        \n",
      " 3   company   100000 non-null  object        \n",
      "dtypes: datetime64[ns](1), object(3)\n",
      "memory usage: 3.1+ MB\n"
     ]
    }
   ],
   "source": [
    "df.info()"
   ],
   "metadata": {
    "collapsed": false,
    "ExecuteTime": {
     "end_time": "2023-11-01T03:16:29.337314200Z",
     "start_time": "2023-11-01T03:16:29.266199100Z"
    }
   },
   "id": "c42e2fa75ac35ac6"
  },
  {
   "cell_type": "code",
   "execution_count": 66,
   "outputs": [],
   "source": [
    "# Gerando o arquivo SQL\n",
    "\n",
    "with open(\"../docker_databases/init.sql\", \"w\") as f:\n",
    "    f.write(\"\\n\\n-- Criação da tabela\")\n",
    "    f.write(\"\"\"\n",
    "    CREATE TABLE t_ponto (\n",
    "          id VARCHAR(255) PRIMARY KEY,\n",
    "          data TIMESTAMP,\n",
    "          username VARCHAR(255),\n",
    "          company VARCHAR(255)\n",
    "    );\\n\n",
    "    \"\"\")\n",
    "    \n",
    "    f.write(\"\\n\\n-- Exportação dos dados\\n\\n\")\n",
    "    for i in df.index:\n",
    "        f.write(f\"INSERT INTO t_ponto (id, data, username, company) VALUES ('{str(df.iloc[i, 0])}', '{df.iloc[i, 1]}', '{df.iloc[i, 2]}', '{df.iloc[i, 3]}');\\n\")"
   ],
   "metadata": {
    "collapsed": false,
    "ExecuteTime": {
     "end_time": "2023-11-01T03:16:36.064305600Z",
     "start_time": "2023-11-01T03:16:29.780372300Z"
    }
   },
   "id": "6b4dc08468e5b334"
  },
  {
   "cell_type": "code",
   "execution_count": 67,
   "outputs": [
    {
     "name": "stdout",
     "output_type": "stream",
     "text": [
      "Fim\n"
     ]
    }
   ],
   "source": [
    "print(\"Fim\")"
   ],
   "metadata": {
    "collapsed": false,
    "ExecuteTime": {
     "end_time": "2023-11-01T03:17:19.076157300Z",
     "start_time": "2023-11-01T03:17:19.001878Z"
    }
   },
   "id": "e2a4cfe71908170"
  },
  {
   "cell_type": "code",
   "execution_count": null,
   "outputs": [],
   "source": [],
   "metadata": {
    "collapsed": false
   },
   "id": "32bc1d48f8c7ef4f"
  }
 ],
 "metadata": {
  "kernelspec": {
   "display_name": "Python 3",
   "language": "python",
   "name": "python3"
  },
  "language_info": {
   "codemirror_mode": {
    "name": "ipython",
    "version": 2
   },
   "file_extension": ".py",
   "mimetype": "text/x-python",
   "name": "python",
   "nbconvert_exporter": "python",
   "pygments_lexer": "ipython2",
   "version": "2.7.6"
  }
 },
 "nbformat": 4,
 "nbformat_minor": 5
}
