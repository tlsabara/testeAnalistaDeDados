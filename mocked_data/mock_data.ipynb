{
 "cells": [
  {
   "cell_type": "markdown",
   "id": "2c5e60c065e0b644",
   "metadata": {
    "collapsed": false
   },
   "source": [
    "# Criação de dados\n",
    "\n",
    "A proposta deste notebook é criar um dataframe de dados mockados contendo as seguintes colunas:\n",
    "- id\n",
    "- data\n",
    "- usuário\n",
    "- empresa"
   ]
  },
  {
   "cell_type": "code",
   "execution_count": 10,
   "id": "initial_id",
   "metadata": {
    "collapsed": true,
    "jupyter": {
     "outputs_hidden": true
    },
    "ExecuteTime": {
     "end_time": "2023-11-08T01:41:25.719964300Z",
     "start_time": "2023-11-08T01:41:25.680735900Z"
    }
   },
   "outputs": [],
   "source": [
    "import pandas as pd\n",
    "from faker import Faker\n",
    "import uuid\n",
    "from datetime import datetime\n",
    "from random import choice"
   ]
  },
  {
   "cell_type": "markdown",
   "id": "7c3e076cba9a1478",
   "metadata": {
    "collapsed": false
   },
   "source": [
    "### Imports\n",
    "- **pandas**: para criar uma tabela\n",
    "- **faker**: para criar os dados\n",
    "- **uuid**: para chaves primárias unicas\n",
    "- **datetime e random**: complementares"
   ]
  },
  {
   "cell_type": "code",
   "execution_count": 11,
   "id": "eb78d8319218f65c",
   "metadata": {
    "collapsed": false,
    "ExecuteTime": {
     "end_time": "2023-11-08T01:41:25.800314900Z",
     "start_time": "2023-11-08T01:41:25.685735500Z"
    }
   },
   "outputs": [],
   "source": [
    "# Instanciando o Faker\n",
    "fake = Faker([\"pt_BR\"])"
   ]
  },
  {
   "cell_type": "code",
   "execution_count": 12,
   "id": "e4f98167107eb06c",
   "metadata": {
    "collapsed": false,
    "ExecuteTime": {
     "end_time": "2023-11-08T01:41:25.801314700Z",
     "start_time": "2023-11-08T01:41:25.708876700Z"
    }
   },
   "outputs": [],
   "source": [
    "# Quantidade de registros na tabela\n",
    "\n",
    "lines = 500_000"
   ]
  },
  {
   "cell_type": "code",
   "execution_count": 13,
   "id": "b9d2c3b51e01c077",
   "metadata": {
    "collapsed": false,
    "ExecuteTime": {
     "end_time": "2023-11-08T01:41:29.500311800Z",
     "start_time": "2023-11-08T01:41:25.713872Z"
    }
   },
   "outputs": [],
   "source": [
    "# Criação de dados \n",
    "\n",
    "base_company_list = [fake.unique.company_id() for _ in range(int(1_000))] # 1k emrpesas\n",
    "base_user_list = [fake.unique.email() for _ in range(int(20_000))] # 20k de usuários\n",
    "\n",
    "# para um contexto mais lógico, onde um usuário sempre pertencer à uma mesma empresa\n",
    "user_company = [(base_user, choice(base_company_list)) for base_user in base_user_list]\n",
    "full_user_company = [choice(user_company) for _ in range(lines)]\n",
    " \n",
    "# Criação dos dados\n",
    "data = {\n",
    "    \"id\": [uuid.uuid4() for _ in range(lines)],\n",
    "    \"insert_date\": [fake.date_time_between(start_date=datetime(2023, 10, 1)) for _ in range(lines)],\n",
    "    \"username\": [user[0] for user in full_user_company],\n",
    "    \"company\": [company[1] for company in full_user_company],\n",
    "}\n"
   ]
  },
  {
   "cell_type": "code",
   "execution_count": 14,
   "id": "419f5d5ab02f9a29",
   "metadata": {
    "collapsed": false,
    "ExecuteTime": {
     "end_time": "2023-11-08T01:41:30.322749300Z",
     "start_time": "2023-11-08T01:41:29.812654500Z"
    }
   },
   "outputs": [],
   "source": [
    "# Criação do dataframe\n",
    "df = pd.DataFrame(data)"
   ]
  },
  {
   "cell_type": "code",
   "execution_count": 15,
   "id": "a67fabce638e21e2",
   "metadata": {
    "collapsed": false,
    "ExecuteTime": {
     "end_time": "2023-11-08T01:41:30.337843600Z",
     "start_time": "2023-11-08T01:41:30.327751100Z"
    }
   },
   "outputs": [
    {
     "data": {
      "text/plain": "                                     id         insert_date  \\\n0  d64a9a47-5c2f-4194-a8db-39407582398e 2023-10-08 22:15:20   \n1  e94dd7f1-1000-4afa-aad1-1956d46d4e8b 2023-11-04 11:17:39   \n2  04e9b5f0-d574-41ec-bf53-dfdcfd4b8b5b 2023-11-07 06:54:08   \n3  6bbb5e55-d775-4fa9-8c17-5617f5dbb2ec 2023-11-06 16:00:05   \n4  3dae1581-8907-4747-a31a-7d805fa1055f 2023-10-12 14:11:14   \n\n                        username         company  \n0     andregoncalves@example.org  72389450000129  \n1          manuela26@example.net  59120834000183  \n2            rvieira@example.com  10697432000157  \n3      sophiamartins@example.com  69275348000198  \n4  freitasana-sophia@example.org  85213407000150  ",
      "text/html": "<div>\n<style scoped>\n    .dataframe tbody tr th:only-of-type {\n        vertical-align: middle;\n    }\n\n    .dataframe tbody tr th {\n        vertical-align: top;\n    }\n\n    .dataframe thead th {\n        text-align: right;\n    }\n</style>\n<table border=\"1\" class=\"dataframe\">\n  <thead>\n    <tr style=\"text-align: right;\">\n      <th></th>\n      <th>id</th>\n      <th>insert_date</th>\n      <th>username</th>\n      <th>company</th>\n    </tr>\n  </thead>\n  <tbody>\n    <tr>\n      <th>0</th>\n      <td>d64a9a47-5c2f-4194-a8db-39407582398e</td>\n      <td>2023-10-08 22:15:20</td>\n      <td>andregoncalves@example.org</td>\n      <td>72389450000129</td>\n    </tr>\n    <tr>\n      <th>1</th>\n      <td>e94dd7f1-1000-4afa-aad1-1956d46d4e8b</td>\n      <td>2023-11-04 11:17:39</td>\n      <td>manuela26@example.net</td>\n      <td>59120834000183</td>\n    </tr>\n    <tr>\n      <th>2</th>\n      <td>04e9b5f0-d574-41ec-bf53-dfdcfd4b8b5b</td>\n      <td>2023-11-07 06:54:08</td>\n      <td>rvieira@example.com</td>\n      <td>10697432000157</td>\n    </tr>\n    <tr>\n      <th>3</th>\n      <td>6bbb5e55-d775-4fa9-8c17-5617f5dbb2ec</td>\n      <td>2023-11-06 16:00:05</td>\n      <td>sophiamartins@example.com</td>\n      <td>69275348000198</td>\n    </tr>\n    <tr>\n      <th>4</th>\n      <td>3dae1581-8907-4747-a31a-7d805fa1055f</td>\n      <td>2023-10-12 14:11:14</td>\n      <td>freitasana-sophia@example.org</td>\n      <td>85213407000150</td>\n    </tr>\n  </tbody>\n</table>\n</div>"
     },
     "execution_count": 15,
     "metadata": {},
     "output_type": "execute_result"
    }
   ],
   "source": [
    "# Apenas vendo como ficou a tabela\n",
    "df.head()"
   ]
  },
  {
   "cell_type": "code",
   "execution_count": 16,
   "id": "c42e2fa75ac35ac6",
   "metadata": {
    "collapsed": false,
    "ExecuteTime": {
     "end_time": "2023-11-08T01:41:30.468727Z",
     "start_time": "2023-11-08T01:41:30.333836400Z"
    }
   },
   "outputs": [
    {
     "name": "stdout",
     "output_type": "stream",
     "text": [
      "<class 'pandas.core.frame.DataFrame'>\n",
      "RangeIndex: 500000 entries, 0 to 499999\n",
      "Data columns (total 4 columns):\n",
      " #   Column       Non-Null Count   Dtype         \n",
      "---  ------       --------------   -----         \n",
      " 0   id           500000 non-null  object        \n",
      " 1   insert_date  500000 non-null  datetime64[ns]\n",
      " 2   username     500000 non-null  object        \n",
      " 3   company      500000 non-null  object        \n",
      "dtypes: datetime64[ns](1), object(3)\n",
      "memory usage: 15.3+ MB\n"
     ]
    }
   ],
   "source": [
    "# Vendo os tipos das colunas\n",
    "df.info()"
   ]
  },
  {
   "cell_type": "code",
   "execution_count": 17,
   "id": "6b4dc08468e5b334",
   "metadata": {
    "collapsed": false,
    "ExecuteTime": {
     "end_time": "2023-11-08T01:42:02.337374600Z",
     "start_time": "2023-11-08T01:41:30.385787700Z"
    }
   },
   "outputs": [],
   "source": [
    "# Gerando o arquivo SQL\n",
    "\n",
    "# Este foi o filename que usei ao rodar no meu pc para criar o script\n",
    "# filename = \"../docker_databases/init_src.sql\"\n",
    "\n",
    "# Estou deixando este apenas para que possa executar no seu computador sem comprometer o resultado\n",
    "# das analises que realizei.\n",
    "filename = \"../docker_databases/init_avaliacao.sql\"\n",
    "\n",
    "with open(filename, \"w\") as f:\n",
    "    f.write(\"-- Criação do banco de dados\\n\")\n",
    "    f.write(\"CREATE DATABASE sourcedb;\\n\")\n",
    "    f.write(\"\\\\c sourcedb;\\n\")\n",
    "    f.write(\"\\n\\n-- Criação da tabela\")\n",
    "    f.write(\"\"\"\n",
    "    CREATE TABLE t_ponto (\n",
    "          id VARCHAR(255) PRIMARY KEY,\n",
    "          insert_date TIMESTAMP,\n",
    "          username VARCHAR(255),\n",
    "          company VARCHAR(255)\n",
    "    );\\n\n",
    "    \"\"\")\n",
    "    \n",
    "    f.write(\"\\n\\n-- Exportação dos dados\\n\\n\")\n",
    "    for i in df.index:\n",
    "        f.write(f\"INSERT INTO t_ponto (id, insert_date, username, company) VALUES ('{str(df.iloc[i, 0])}', '{df.iloc[i, 1]}', '{df.iloc[i, 2]}', '{df.iloc[i, 3]}');\\n\")"
   ]
  },
  {
   "cell_type": "code",
   "execution_count": 18,
   "id": "e2a4cfe71908170",
   "metadata": {
    "collapsed": false,
    "ExecuteTime": {
     "end_time": "2023-11-08T01:42:02.349382800Z",
     "start_time": "2023-11-08T01:42:02.339384100Z"
    }
   },
   "outputs": [
    {
     "name": "stdout",
     "output_type": "stream",
     "text": [
      "Fim\n"
     ]
    }
   ],
   "source": [
    "print(\"Fim\")"
   ]
  },
  {
   "cell_type": "markdown",
   "id": "2e06e3d03b96f56b",
   "metadata": {
    "collapsed": false
   },
   "source": [
    "## Conclusão\n",
    "\n",
    "foi gerado um script sql para que possa ser instanciado o container com o banco ja contendo as informações. Sempre que o container for executado no composer, ele ja irá conter os dados."
   ]
  },
  {
   "cell_type": "code",
   "execution_count": 18,
   "id": "68428c71087e5d25",
   "metadata": {
    "collapsed": false,
    "ExecuteTime": {
     "end_time": "2023-11-08T01:42:02.349382800Z",
     "start_time": "2023-11-08T01:42:02.348411900Z"
    }
   },
   "outputs": [],
   "source": []
  }
 ],
 "metadata": {
  "kernelspec": {
   "display_name": "Python 3 (ipykernel)",
   "language": "python",
   "name": "python3"
  },
  "language_info": {
   "codemirror_mode": {
    "name": "ipython",
    "version": 3
   },
   "file_extension": ".py",
   "mimetype": "text/x-python",
   "name": "python",
   "nbconvert_exporter": "python",
   "pygments_lexer": "ipython3",
   "version": "3.11.5"
  }
 },
 "nbformat": 4,
 "nbformat_minor": 5
}
