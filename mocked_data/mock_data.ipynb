{
 "cells": [
  {
   "cell_type": "markdown",
   "source": [
    "# Criação de dados\n",
    "\n",
    "A proposta deste notebook é criar um dataframe de dados mockados contendo as seguintes colunas:\n",
    "- id\n",
    "- data\n",
    "- usuário\n",
    "- empresa"
   ],
   "metadata": {
    "collapsed": false
   },
   "id": "2c5e60c065e0b644"
  },
  {
   "cell_type": "code",
   "execution_count": 60,
   "id": "initial_id",
   "metadata": {
    "collapsed": true,
    "ExecuteTime": {
     "end_time": "2023-11-01T03:11:32.349771800Z",
     "start_time": "2023-11-01T03:11:32.326775200Z"
    }
   },
   "outputs": [],
   "source": [
    "import pandas as pd\n",
    "from faker import Faker\n",
    "import uuid\n",
    "from datetime import datetime\n",
    "from random import choice"
   ]
  },
  {
   "cell_type": "code",
   "execution_count": 13,
   "outputs": [],
   "source": [
    "fake = Faker([\"pt_BR\"])"
   ],
   "metadata": {
    "collapsed": false,
    "ExecuteTime": {
     "end_time": "2023-11-01T01:53:37.387632Z",
     "start_time": "2023-11-01T01:53:37.353908300Z"
    }
   },
   "id": "eb78d8319218f65c"
  },
  {
   "cell_type": "code",
   "execution_count": 29,
   "outputs": [],
   "source": [
    "# Quantidade de registros na tabela\n",
    "\n",
    "lines = 100_000"
   ],
   "metadata": {
    "collapsed": false,
    "ExecuteTime": {
     "end_time": "2023-11-01T01:57:26.021417200Z",
     "start_time": "2023-11-01T01:57:25.995757400Z"
    }
   },
   "id": "e4f98167107eb06c"
  },
  {
   "cell_type": "code",
   "execution_count": 74,
   "outputs": [],
   "source": [
    "\n",
    "\n",
    "# Criação de dados \n",
    "\n",
    "base_company_list = [fake.unique.company_id() for _ in range(int(lines/100))] # 1k \n",
    "base_user_list = [fake.unique.email() for _ in range(int(lines/5))] # 20k\n",
    "user_company = [(base_user, choice(base_company_list)) for base_user in base_user_list]\n",
    "full_user_company = [choice(user_company) for _ in range(lines)]\n",
    "# deste modo eu garanto que sempre um mesmo user vai pertencer a uma mesma empresa\n",
    "\n",
    "\n",
    "data = {\n",
    "    \"id\": [uuid.uuid4() for _ in range(lines)],\n",
    "    \"insert_date\": [fake.date_time_between(start_date=datetime(2023, 1, 1)) for _ in range(lines)],\n",
    "    \"username\": [user[0] for user in full_user_company],\n",
    "    \"company\": [company[1] for company in full_user_company],\n",
    "}\n"
   ],
   "metadata": {
    "collapsed": false,
    "ExecuteTime": {
     "end_time": "2023-11-01T03:43:48.478191400Z",
     "start_time": "2023-11-01T03:43:46.922529100Z"
    }
   },
   "id": "b9d2c3b51e01c077"
  },
  {
   "cell_type": "code",
   "execution_count": 75,
   "outputs": [],
   "source": [
    "# Criação do dataframe\n",
    "\n",
    "df = pd.DataFrame(data)"
   ],
   "metadata": {
    "collapsed": false,
    "ExecuteTime": {
     "end_time": "2023-11-01T03:43:50.841033500Z",
     "start_time": "2023-11-01T03:43:50.730737100Z"
    }
   },
   "id": "419f5d5ab02f9a29"
  },
  {
   "cell_type": "code",
   "execution_count": 76,
   "outputs": [
    {
     "data": {
      "text/plain": "                                     id         insert_date  \\\n0  daa4761b-c438-4841-8622-0682816c4674 2023-02-16 05:37:48   \n1  3c374f33-9c12-4293-96ff-bde89d5834da 2023-08-24 16:31:38   \n2  5eae9ca5-0f02-462a-ad8d-450c0fe425ef 2023-01-15 19:26:53   \n3  90ebe682-0e93-42f7-863b-4300198024fc 2023-02-14 05:17:19   \n4  0c6672de-c3bf-44c4-941d-c2eccf173581 2023-03-10 01:50:47   \n\n                     username         company  \n0  eduardoda-mata@example.org  75930264000143  \n1  barbosaantonio@example.com  16230487000139  \n2   pedro-lucas03@example.org  30514827000184  \n3        stella89@example.org  87153642000109  \n4   camposkamilly@example.com  62853704000164  ",
      "text/html": "<div>\n<style scoped>\n    .dataframe tbody tr th:only-of-type {\n        vertical-align: middle;\n    }\n\n    .dataframe tbody tr th {\n        vertical-align: top;\n    }\n\n    .dataframe thead th {\n        text-align: right;\n    }\n</style>\n<table border=\"1\" class=\"dataframe\">\n  <thead>\n    <tr style=\"text-align: right;\">\n      <th></th>\n      <th>id</th>\n      <th>insert_date</th>\n      <th>username</th>\n      <th>company</th>\n    </tr>\n  </thead>\n  <tbody>\n    <tr>\n      <th>0</th>\n      <td>daa4761b-c438-4841-8622-0682816c4674</td>\n      <td>2023-02-16 05:37:48</td>\n      <td>eduardoda-mata@example.org</td>\n      <td>75930264000143</td>\n    </tr>\n    <tr>\n      <th>1</th>\n      <td>3c374f33-9c12-4293-96ff-bde89d5834da</td>\n      <td>2023-08-24 16:31:38</td>\n      <td>barbosaantonio@example.com</td>\n      <td>16230487000139</td>\n    </tr>\n    <tr>\n      <th>2</th>\n      <td>5eae9ca5-0f02-462a-ad8d-450c0fe425ef</td>\n      <td>2023-01-15 19:26:53</td>\n      <td>pedro-lucas03@example.org</td>\n      <td>30514827000184</td>\n    </tr>\n    <tr>\n      <th>3</th>\n      <td>90ebe682-0e93-42f7-863b-4300198024fc</td>\n      <td>2023-02-14 05:17:19</td>\n      <td>stella89@example.org</td>\n      <td>87153642000109</td>\n    </tr>\n    <tr>\n      <th>4</th>\n      <td>0c6672de-c3bf-44c4-941d-c2eccf173581</td>\n      <td>2023-03-10 01:50:47</td>\n      <td>camposkamilly@example.com</td>\n      <td>62853704000164</td>\n    </tr>\n  </tbody>\n</table>\n</div>"
     },
     "execution_count": 76,
     "metadata": {},
     "output_type": "execute_result"
    }
   ],
   "source": [
    "df.head()"
   ],
   "metadata": {
    "collapsed": false,
    "ExecuteTime": {
     "end_time": "2023-11-01T03:43:51.116239600Z",
     "start_time": "2023-11-01T03:43:51.109222300Z"
    }
   },
   "id": "a67fabce638e21e2"
  },
  {
   "cell_type": "code",
   "execution_count": 77,
   "outputs": [
    {
     "name": "stdout",
     "output_type": "stream",
     "text": [
      "<class 'pandas.core.frame.DataFrame'>\n",
      "RangeIndex: 100000 entries, 0 to 99999\n",
      "Data columns (total 4 columns):\n",
      " #   Column       Non-Null Count   Dtype         \n",
      "---  ------       --------------   -----         \n",
      " 0   id           100000 non-null  object        \n",
      " 1   insert_date  100000 non-null  datetime64[ns]\n",
      " 2   username     100000 non-null  object        \n",
      " 3   company      100000 non-null  object        \n",
      "dtypes: datetime64[ns](1), object(3)\n",
      "memory usage: 3.1+ MB\n"
     ]
    }
   ],
   "source": [
    "df.info()"
   ],
   "metadata": {
    "collapsed": false,
    "ExecuteTime": {
     "end_time": "2023-11-01T03:43:51.481403300Z",
     "start_time": "2023-11-01T03:43:51.428792700Z"
    }
   },
   "id": "c42e2fa75ac35ac6"
  },
  {
   "cell_type": "code",
   "execution_count": 78,
   "outputs": [],
   "source": [
    "# Gerando o arquivo SQL\n",
    "\n",
    "# Este foi o filename que usei ao rodar no meu pc para criar o script\n",
    "filename = \"../docker_databases/init.sql\"\n",
    "\n",
    "# Estou deixando este apenas para que possa executar no seu computador sem comprometer o resultado\n",
    "# das analises que realizei.\n",
    "# filename = \"../docker_databases/init_avaliacao.sql\"\n",
    "\n",
    "with open(filename, \"w\") as f:\n",
    "    f.write(\"\\n\\n-- Criação da tabela\")\n",
    "    f.write(\"\"\"\n",
    "    CREATE TABLE t_ponto (\n",
    "          id VARCHAR(255) PRIMARY KEY,\n",
    "          insert_date TIMESTAMP,\n",
    "          username VARCHAR(255),\n",
    "          company VARCHAR(255)\n",
    "    );\\n\n",
    "    \"\"\")\n",
    "    \n",
    "    f.write(\"\\n\\n-- Exportação dos dados\\n\\n\")\n",
    "    for i in df.index:\n",
    "        f.write(f\"INSERT INTO t_ponto (id, insert_date, username, company) VALUES ('{str(df.iloc[i, 0])}', '{df.iloc[i, 1]}', '{df.iloc[i, 2]}', '{df.iloc[i, 3]}');\\n\")"
   ],
   "metadata": {
    "collapsed": false,
    "ExecuteTime": {
     "end_time": "2023-11-01T03:43:57.953430900Z",
     "start_time": "2023-11-01T03:43:51.794547700Z"
    }
   },
   "id": "6b4dc08468e5b334"
  },
  {
   "cell_type": "code",
   "execution_count": 67,
   "outputs": [
    {
     "name": "stdout",
     "output_type": "stream",
     "text": [
      "Fim\n"
     ]
    }
   ],
   "source": [
    "print(\"Fim\")"
   ],
   "metadata": {
    "collapsed": false,
    "ExecuteTime": {
     "end_time": "2023-11-01T03:17:19.076157300Z",
     "start_time": "2023-11-01T03:17:19.001878Z"
    }
   },
   "id": "e2a4cfe71908170"
  },
  {
   "cell_type": "code",
   "execution_count": null,
   "outputs": [],
   "source": [],
   "metadata": {
    "collapsed": false
   },
   "id": "32bc1d48f8c7ef4f"
  }
 ],
 "metadata": {
  "kernelspec": {
   "display_name": "Python 3",
   "language": "python",
   "name": "python3"
  },
  "language_info": {
   "codemirror_mode": {
    "name": "ipython",
    "version": 2
   },
   "file_extension": ".py",
   "mimetype": "text/x-python",
   "name": "python",
   "nbconvert_exporter": "python",
   "pygments_lexer": "ipython2",
   "version": "2.7.6"
  }
 },
 "nbformat": 4,
 "nbformat_minor": 5
}
